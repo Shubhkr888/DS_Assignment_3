{
  "nbformat": 4,
  "nbformat_minor": 0,
  "metadata": {
    "colab": {
      "provenance": []
    },
    "kernelspec": {
      "name": "python3",
      "display_name": "Python 3"
    },
    "language_info": {
      "name": "python"
    }
  },
  "cells": [
    {
      "cell_type": "code",
      "execution_count": 6,
      "metadata": {
        "id": "4CmKUs1WvPjY"
      },
      "outputs": [],
      "source": [
        "#Q1\n",
        "nums = [-1,2,1,-4]\n",
        "target = 1\n",
        "def threeSumClosest(nums,target) -> int:\n",
        "    # Sort the given array\n",
        "    nums.sort()\n",
        "    # Length of the array\n",
        "    n = len(nums)\n",
        "    # Closest value\n",
        "    closest = nums[0] + nums[1] + nums[n - 1]\n",
        "    # Loop for each element of the array\n",
        "    for i in range(0, n - 2):\n",
        "        # Left and right pointers\n",
        "        j = i + 1\n",
        "        k = n - 1\n",
        "        # Loop for all other pairs\n",
        "        while j < k:\n",
        "            current_sum = nums[i] + nums[j] + nums[k]\n",
        "            if current_sum <= target:\n",
        "                j += 1\n",
        "            else:\n",
        "                k -= 1\n",
        "            if abs(closest - target) > abs(current_sum - target):\n",
        "                closest = current_sum\n",
        "    return closest"
      ]
    },
    {
      "cell_type": "code",
      "source": [
        "threeSumClosest(nums,target)"
      ],
      "metadata": {
        "colab": {
          "base_uri": "https://localhost:8080/"
        },
        "id": "v5DUh58lweDD",
        "outputId": "f514c88e-5c16-4eb9-a5f4-24b55b57f375"
      },
      "execution_count": 8,
      "outputs": [
        {
          "output_type": "execute_result",
          "data": {
            "text/plain": [
              "2"
            ]
          },
          "metadata": {},
          "execution_count": 8
        }
      ]
    },
    {
      "cell_type": "code",
      "source": [
        "#Q2\n",
        "nums = [1,0,-1,0,-2,2]\n",
        "target = 0\n",
        "def fourSum(nums,target):\n",
        "    # Resultant list\n",
        "    quadruplets = list()\n",
        "    # Base condition\n",
        "    if nums is None or len(nums) < 4:\n",
        "        return quadruplets\n",
        "    # Sort the array\n",
        "    nums.sort()\n",
        "    # Length of the array\n",
        "    n = len(nums)\n",
        "    # Loop for each element of the array\n",
        "    for i in range(0, n - 3):\n",
        "        # Check for skipping duplicates\n",
        "        if i > 0 and nums[i] == nums[i - 1]:\n",
        "            continue\n",
        "        # Reducing to three sum problem\n",
        "        for j in range(i + 1, n - 2):\n",
        "            # Check for skipping duplicates\n",
        "            if j != i + 1 and nums[j] == nums[j - 1]:\n",
        "                continue\n",
        "            # Left and right pointers\n",
        "            k = j + 1\n",
        "            l = n - 1\n",
        "            # Reducing to two sum problem\n",
        "            while k < l:\n",
        "                current_sum = nums[i] + nums[j] + nums[k] + nums[l]\n",
        "                if current_sum < target:\n",
        "                    k += 1\n",
        "                elif current_sum > target:\n",
        "                    l -= 1\n",
        "                else:\n",
        "                    quadruplets.append([nums[i], nums[j], nums[k], nums[l]])\n",
        "                    k += 1\n",
        "                    l -= 1\n",
        "                    while k < l and nums[k] == nums[k - 1]:\n",
        "                        k += 1\n",
        "                    while k < l and nums[l] == nums[l + 1]:\n",
        "                        l -= 1\n",
        "    return quadruplets"
      ],
      "metadata": {
        "id": "tGoT9QSkveKo"
      },
      "execution_count": 10,
      "outputs": []
    },
    {
      "cell_type": "code",
      "source": [
        "fourSum(nums,target)"
      ],
      "metadata": {
        "colab": {
          "base_uri": "https://localhost:8080/"
        },
        "id": "JZGDLQ9SvrUf",
        "outputId": "f54d7f2b-7c20-486e-b608-c55b3dd610e3"
      },
      "execution_count": 11,
      "outputs": [
        {
          "output_type": "execute_result",
          "data": {
            "text/plain": [
              "[[-2, -1, 1, 2], [-2, 0, 0, 2], [-1, 0, 0, 1]]"
            ]
          },
          "metadata": {},
          "execution_count": 11
        }
      ]
    },
    {
      "cell_type": "code",
      "source": [
        "#Q6\n",
        "nums = [2,2,1]\n",
        "class Solution(object):\n",
        "    def singleNumber(self, nums):\n",
        "\n",
        "        hash_table = {}\n",
        "        for i in nums:\n",
        "            try:\n",
        "                hash_table.pop(i)\n",
        "            except:\n",
        "                hash_table[i] = 1\n",
        "        return hash_table.popitem()[0]"
      ],
      "metadata": {
        "id": "kMno8ih9wxQc"
      },
      "execution_count": 13,
      "outputs": []
    },
    {
      "cell_type": "code",
      "source": [
        "#Q8\n",
        "def canAttendMeetings(intervals):\n",
        "\n",
        "    intervals.sort(key=lambda a: a.start)\n",
        "    for i in range(len(intervals)-1):\n",
        "        if intervals[i].end > intervals[i+1].start:\n",
        "            return False\n",
        "    return True"
      ],
      "metadata": {
        "id": "3vIWOYFoxjjF"
      },
      "execution_count": 15,
      "outputs": []
    },
    {
      "cell_type": "code",
      "source": [],
      "metadata": {
        "id": "VwvCxQ5CyI83"
      },
      "execution_count": null,
      "outputs": []
    }
  ]
}